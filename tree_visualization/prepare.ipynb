{
 "cells": [
  {
   "cell_type": "markdown",
   "metadata": {},
   "source": [
    "# JSON files for d3 visualization"
   ]
  },
  {
   "cell_type": "code",
   "execution_count": 573,
   "metadata": {},
   "outputs": [],
   "source": [
    "import os\n",
    "import copy\n",
    "import json\n",
    "import numpy as np\n",
    "import matplotlib.pyplot as plt"
   ]
  },
  {
   "cell_type": "code",
   "execution_count": 460,
   "metadata": {},
   "outputs": [],
   "source": [
    "with open('./data/b0.json') as infile:\n",
    "    data = json.load(infile)"
   ]
  },
  {
   "cell_type": "code",
   "execution_count": 446,
   "metadata": {},
   "outputs": [
    {
     "data": {
      "text/plain": [
       "dict_keys(['frame_index', 'input_values', 'layers', 'rts'])"
      ]
     },
     "execution_count": 446,
     "metadata": {},
     "output_type": "execute_result"
    }
   ],
   "source": [
    "data.keys()"
   ]
  },
  {
   "cell_type": "code",
   "execution_count": 462,
   "metadata": {},
   "outputs": [],
   "source": [
    "start = data['rts'][0][0]"
   ]
  },
  {
   "cell_type": "code",
   "execution_count": 463,
   "metadata": {},
   "outputs": [
    {
     "data": {
      "text/plain": [
       "dict_keys(['activation_value', 'children', 'coordinates', 'global_coordinates', 'layer', 'node', 'raw_value', 'relevance_value', 'size', 'strides', 'weights'])"
      ]
     },
     "execution_count": 463,
     "metadata": {},
     "output_type": "execute_result"
    }
   ],
   "source": [
    "start.keys()"
   ]
  },
  {
   "cell_type": "code",
   "execution_count": 470,
   "metadata": {},
   "outputs": [
    {
     "name": "stdout",
     "output_type": "stream",
     "text": [
      "activation_value 0.5342745780944824\n",
      "coordinates [0, 6, 3, 0]\n",
      "global_coordinates [0, 65.5, 41.5, 0]\n",
      "layer Tensor (not serialized)\n",
      "node Tensor (not serialized)\n",
      "raw_value -0.4884624779224396\n",
      "relevance_value 0.5342745780944824\n",
      "size 1\n",
      "strides 1\n"
     ]
    }
   ],
   "source": [
    "for key in start:\n",
    "    if key != 'children' and key != 'weights':\n",
    "        print(key, start[key])"
   ]
  },
  {
   "cell_type": "markdown",
   "metadata": {},
   "source": [
    "## Attention squares"
   ]
  },
  {
   "cell_type": "code",
   "execution_count": 590,
   "metadata": {},
   "outputs": [
    {
     "name": "stdout",
     "output_type": "stream",
     "text": [
      "b0.json  b11.json b14.json b17.json b3.json  b6.json  b9.json\r\n",
      "b1.json  b12.json b15.json b18.json b4.json  b7.json  \u001b[1m\u001b[36mold\u001b[m\u001b[m\r\n",
      "b10.json b13.json b16.json b2.json  b5.json  b8.json\r\n"
     ]
    }
   ],
   "source": [
    "!ls data/"
   ]
  },
  {
   "cell_type": "code",
   "execution_count": 624,
   "metadata": {},
   "outputs": [
    {
     "data": {
      "text/plain": [
       "4"
      ]
     },
     "execution_count": 624,
     "metadata": {},
     "output_type": "execute_result"
    }
   ],
   "source": [
    "len(data['rts'][0])"
   ]
  },
  {
   "cell_type": "code",
   "execution_count": 656,
   "metadata": {},
   "outputs": [],
   "source": [
    "trees = []\n",
    "json_files = [f for f in os.listdir('./data') if f.endswith('.json')]\n",
    "for n in range(len(json_files)):\n",
    "\n",
    "    with open(f'./data/b{n}.json') as infile:\n",
    "        data = json.load(infile)\n",
    "        \n",
    "    metadata = {\n",
    "        'children': data['rts'][0],\n",
    "        'global_coordinates': [0,0,0,0],\n",
    "        'coordinates': [0,0,0,0],\n",
    "        'relevance_value': 1\n",
    "    }\n",
    "\n",
    "    tree = metadata # data['rts'][0][0]\n",
    "\n",
    "    # field_sizes = [geom['global_size'] for geom in data['layer_geometries']]\n",
    "    field_sizes = [8, 20, 36, 36, 36, 0]\n",
    "    # field_sizes\n",
    "\n",
    "    # kernel_sizes = [geom['size'] for geom in data['layer_geometries']]\n",
    "    # kernel_sizes\n",
    "\n",
    "    def clean(dictionary):\n",
    "        \"\"\"Only keep some keys in the nested dictionary.\"\"\"\n",
    "\n",
    "        for key in list(dictionary):\n",
    "            if key not in ['children', 'global_coordinates', 'coordinates', 'relevance_value']:\n",
    "                del dictionary[key]\n",
    "            else:\n",
    "                if isinstance(dictionary[key], list):\n",
    "                    try:\n",
    "                        if isinstance(dictionary[key][0], dict):\n",
    "                            for child in dictionary[key]:\n",
    "                                clean(child)\n",
    "                    except IndexError:\n",
    "                        pass\n",
    "\n",
    "    clean(tree)\n",
    "\n",
    "    # def name(dictionary, layer):\n",
    "    #     \"\"\"Add a layer name to all dictionaries in the nested dictionary.\"\"\"\n",
    "\n",
    "    #     dictionary['name'] = f'layer_{layer}'\n",
    "\n",
    "    #     for key in list(dictionary):\n",
    "    #         if isinstance(dictionary[key], list):\n",
    "    #             try:\n",
    "    #                 if isinstance(dictionary[key][0], dict):\n",
    "    #                     for child in dictionary[key]:\n",
    "    #                         name(child, layer-1)\n",
    "    #             except IndexError:\n",
    "    #                 pass\n",
    "\n",
    "    # name(tree, layer=5)\n",
    "\n",
    "    def get_coordinates(node, depth):\n",
    "\n",
    "        n_layers = 6\n",
    "\n",
    "        x, y = node['global_coordinates'][1:3]\n",
    "        size = field_sizes[-(depth + 1)]\n",
    "\n",
    "        layer = n_layers - depth\n",
    "        if layer <= 3:\n",
    "            letter = 'C'\n",
    "            number = str(layer)\n",
    "        elif layer > 3 and layer < 6:\n",
    "            letter = 'A'\n",
    "            number = str(layer - 3)\n",
    "        elif layer == 6:\n",
    "            letter = 'Start'\n",
    "            number = ''\n",
    "\n",
    "        node['layer'] = layer\n",
    "        node['square'] =  (x, y, size)  # center x, center y, height/width\n",
    "        node['name'] = letter + number\n",
    "        if layer != 6 :\n",
    "            node['name'] += ' (' + ', '.join([str(n) for n in node['coordinates'][1:]]) + ')'\n",
    "\n",
    "        for child in node['children']:\n",
    "            get_coordinates(node=child, depth=depth+1)\n",
    "\n",
    "    get_coordinates(tree, depth=0)\n",
    "    \n",
    "    \n",
    "    def colorize(node, branch=None):\n",
    "            \n",
    "        if branch == None:\n",
    "            color = 'black'\n",
    "        elif branch == 1:\n",
    "            color = 'red'\n",
    "        elif branch == 2:\n",
    "            color = 'red'\n",
    "        elif branch == 3:\n",
    "            color = 'yellow'\n",
    "        elif branch == 4:\n",
    "            color = 'yellow'\n",
    "            \n",
    "        node['color'] = color\n",
    "        \n",
    "        for i, child in enumerate(node['children']):\n",
    "            if branch == None:\n",
    "                lower_branch = i+1\n",
    "            else:\n",
    "                lower_branch = branch\n",
    "            colorize(child, branch=lower_branch)\n",
    "            \n",
    "    colorize(tree)\n",
    "\n",
    "    # def truncate(node, factor=2):\n",
    "\n",
    "    #     n_children = len(node['children'])\n",
    "    #     n_truncated = int(n_children/factor)\n",
    "\n",
    "    #     if n_children > 0:\n",
    "    #         node['children'] = node['children'][0:n_truncated]\n",
    "    #         for child in node['children']:\n",
    "    #             truncate(child)\n",
    "\n",
    "    # temp = copy.deepcopy(tree)\n",
    "    # truncate(temp)\n",
    "\n",
    "    def pick(node, depth):\n",
    "\n",
    "        n_children = len(node['children'])\n",
    "        if n_children > 1:\n",
    "\n",
    "            n_layers = 6\n",
    "            layer = n_layers - depth\n",
    "            mapping = {\n",
    "                6: None,\n",
    "                5: 1,\n",
    "                4: 1,\n",
    "                3: 1,\n",
    "                2: 1,\n",
    "                1: 0\n",
    "            }\n",
    "            n_max = mapping[layer]\n",
    "            \n",
    "            node['children'] = node['children'][0:n_max]\n",
    "\n",
    "            for child in node['children']:\n",
    "                pick(child, depth=depth+1)\n",
    "\n",
    "    pick(tree, depth=0)\n",
    "    \n",
    "    trees.append(tree)\n",
    "            \n",
    "\n",
    "with open('trees.json', 'w') as outfile:\n",
    "    json.dump(trees, outfile)"
   ]
  },
  {
   "cell_type": "markdown",
   "metadata": {},
   "source": [
    "# Game background"
   ]
  },
  {
   "cell_type": "code",
   "execution_count": 598,
   "metadata": {},
   "outputs": [
    {
     "data": {
      "image/png": "[encoded data removed]",
      "text/plain": [
       "<Figure size 432x288 with 1 Axes>"
      ]
     },
     "metadata": {
      "needs_background": "light"
     },
     "output_type": "display_data"
    },
    {
     "data": {
      "image/png": "[encoded data removed]",
      "text/plain": [
       "<Figure size 432x288 with 1 Axes>"
      ]
     },
     "metadata": {
      "needs_background": "light"
     },
     "output_type": "display_data"
    },
    {
     "data": {
      "image/png": "[encoded data removed]",
      "text/plain": [
       "<Figure size 432x288 with 1 Axes>"
      ]
     },
     "metadata": {
      "needs_background": "light"
     },
     "output_type": "display_data"
    },
    {
     "data": {
      "image/png": "[encoded data removed]",
      "text/plain": [
       "<Figure size 432x288 with 1 Axes>"
      ]
     },
     "metadata": {
      "needs_background": "light"
     },
     "output_type": "display_data"
    },
    {
     "data": {
      "image/png": "[encoded data removed]",
      "text/plain": [
       "<Figure size 432x288 with 1 Axes>"
      ]
     },
     "metadata": {
      "needs_background": "light"
     },
     "output_type": "display_data"
    },
    {
     "data": {
      "image/png": "[encoded data removed]",
      "text/plain": [
       "<Figure size 432x288 with 1 Axes>"
      ]
     },
     "metadata": {
      "needs_background": "light"
     },
     "output_type": "display_data"
    },
    {
     "data": {
      "image/png": "[encoded data removed]",
      "text/plain": [
       "<Figure size 432x288 with 1 Axes>"
      ]
     },
     "metadata": {
      "needs_background": "light"
     },
     "output_type": "display_data"
    },
    {
     "data": {
      "image/png": "[encoded data removed]",
      "text/plain": [
       "<Figure size 432x288 with 1 Axes>"
      ]
     },
     "metadata": {
      "needs_background": "light"
     },
     "output_type": "display_data"
    },
    {
     "data": {
      "image/png": "[encoded data removed]",
      "text/plain": [
       "<Figure size 432x288 with 1 Axes>"
      ]
     },
     "metadata": {
      "needs_background": "light"
     },
     "output_type": "display_data"
    },
    {
     "data": {
      "image/png": "[encoded data removed]",
      "text/plain": [
       "<Figure size 432x288 with 1 Axes>"
      ]
     },
     "metadata": {
      "needs_background": "light"
     },
     "output_type": "display_data"
    },
    {
     "data": {
      "image/png": "[encoded data removed]",
      "text/plain": [
       "<Figure size 432x288 with 1 Axes>"
      ]
     },
     "metadata": {
      "needs_background": "light"
     },
     "output_type": "display_data"
    },
    {
     "data": {
      "image/png": "[encoded data removed]",
      "text/plain": [
       "<Figure size 432x288 with 1 Axes>"
      ]
     },
     "metadata": {
      "needs_background": "light"
     },
     "output_type": "display_data"
    },
    {
     "data": {
      "image/png": "[encoded data removed]",
      "text/plain": [
       "<Figure size 432x288 with 1 Axes>"
      ]
     },
     "metadata": {
      "needs_background": "light"
     },
     "output_type": "display_data"
    },
    {
     "data": {
      "image/png": "[encoded data removed]",
      "text/plain": [
       "<Figure size 432x288 with 1 Axes>"
      ]
     },
     "metadata": {
      "needs_background": "light"
     },
     "output_type": "display_data"
    },
    {
     "data": {
      "image/png": "[encoded data removed]",
      "text/plain": [
       "<Figure size 432x288 with 1 Axes>"
      ]
     },
     "metadata": {
      "needs_background": "light"
     },
     "output_type": "display_data"
    },
    {
     "data": {
      "image/png": "[encoded data removed]",
      "text/plain": [
       "<Figure size 432x288 with 1 Axes>"
      ]
     },
     "metadata": {
      "needs_background": "light"
     },
     "output_type": "display_data"
    }
   ],
   "source": [
    "screens = []\n",
    "overlays = []\n",
    "\n",
    "json_files = [f for f in os.listdir('./data') if f.endswith('.json')]\n",
    "for n in range(len(json_files)):\n",
    "    \n",
    "    with open(f'./data/b{n}.json') as infile:\n",
    "        data = json.load(infile)\n",
    "\n",
    "    tensor = np.asarray(data['input_values'], dtype=np.int)\n",
    "    n_frames = tensor.shape[-1]\n",
    "\n",
    "    for frame in range(n_frames):\n",
    "        tensor[:, :, :, frame] = tensor[:, :, :, frame] * (n_frames - frame)\n",
    "            # assuming that the last frame is the latest in time\n",
    "\n",
    "    overlay = np.squeeze(np.amax(tensor, axis=-1))\n",
    "    overlay = overlay / overlay.max() * 255\n",
    "    overlay = overlay.astype(np.int)\n",
    "    \n",
    "    overlays.append(overlay)\n",
    "\n",
    "    pixels = []\n",
    "    for y, row in enumerate(overlay):\n",
    "        for x, value in enumerate(row):\n",
    "            pixels.append({\n",
    "                'x': int(x),\n",
    "                'y': int(y),\n",
    "                'value': int(value)\n",
    "            })\n",
    "            \n",
    "    screens.append(pixels)\n",
    "\n",
    "with open('screens.json', 'w') as outfile:\n",
    "    json.dump(screens, outfile)\n",
    "\n",
    "for overlay in overlays:\n",
    "    plt.imshow(overlay, cmap='gray')\n",
    "    plt.show()"
   ]
  },
  {
   "cell_type": "code",
   "execution_count": null,
   "metadata": {},
   "outputs": [],
   "source": []
  }
 ],
 "metadata": {
  "hide_input": false,
  "kernelspec": {
   "display_name": "Python 3",
   "language": "python",
   "name": "python3"
  },
  "language_info": {
   "codemirror_mode": {
    "name": "ipython",
    "version": 3
   },
   "file_extension": ".py",
   "mimetype": "text/x-python",
   "name": "python",
   "nbconvert_exporter": "python",
   "pygments_lexer": "ipython3",
   "version": "3.7.0"
  },
  "toc": {
   "base_numbering": 1,
   "nav_menu": {},
   "number_sections": false,
   "sideBar": true,
   "skip_h1_title": true,
   "title_cell": "Table of Contents",
   "title_sidebar": "Contents",
   "toc_cell": false,
   "toc_position": {},
   "toc_section_display": true,
   "toc_window_display": false
  },
  "varInspector": {
   "cols": {
    "lenName": 16,
    "lenType": 16,
    "lenVar": 40
   },
   "kernels_config": {
    "python": {
     "delete_cmd_postfix": "",
     "delete_cmd_prefix": "del ",
     "library": "var_list.py",
     "varRefreshCmd": "print(var_dic_list())"
    },
    "r": {
     "delete_cmd_postfix": ") ",
     "delete_cmd_prefix": "rm(",
     "library": "var_list.r",
     "varRefreshCmd": "cat(var_dic_list()) "
    }
   },
   "types_to_exclude": [
    "module",
    "function",
    "builtin_function_or_method",
    "instance",
    "_Feature"
   ],
   "window_display": false
  }
 },
 "nbformat": 4,
 "nbformat_minor": 2
}
